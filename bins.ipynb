{
 "cells": [
  {
   "cell_type": "code",
   "execution_count": 4,
   "metadata": {},
   "outputs": [
    {
     "name": "stderr",
     "output_type": "stream",
     "text": [
      "c:\\Users\\fjren\\AppData\\Local\\Programs\\Python\\Python39\\lib\\site-packages\\urllib3\\connectionpool.py:1013: InsecureRequestWarning: Unverified HTTPS request is being made to host 'ecitizen.oxford.gov.uk'. Adding certificate verification is strongly advised. See: https://urllib3.readthedocs.io/en/latest/advanced-usage.html#ssl-warnings\n",
      "  warnings.warn(\n"
     ]
    }
   ],
   "source": [
    "import requests\n",
    "from bs4 import BeautifulSoup\n",
    "\n",
    "bin_url = 'https://ecitizen.oxford.gov.uk/citizenportal/form.aspx?form=Bin_Collection_Day'\n",
    "\n",
    "r1 = requests.get(bin_url, verify=False)\n",
    "soup1 = BeautifulSoup(r1.content, \"html.parser\")\n"
   ]
  },
  {
   "cell_type": "code",
   "execution_count": 5,
   "metadata": {},
   "outputs": [
    {
     "name": "stderr",
     "output_type": "stream",
     "text": [
      "c:\\Users\\fjren\\AppData\\Local\\Programs\\Python\\Python39\\lib\\site-packages\\urllib3\\connectionpool.py:1013: InsecureRequestWarning: Unverified HTTPS request is being made to host 'ecitizen.oxford.gov.uk'. Adding certificate verification is strongly advised. See: https://urllib3.readthedocs.io/en/latest/advanced-usage.html#ssl-warnings\n",
      "  warnings.warn(\n",
      "c:\\Users\\fjren\\AppData\\Local\\Programs\\Python\\Python39\\lib\\site-packages\\urllib3\\connectionpool.py:1013: InsecureRequestWarning: Unverified HTTPS request is being made to host 'ecitizen.oxford.gov.uk'. Adding certificate verification is strongly advised. See: https://urllib3.readthedocs.io/en/latest/advanced-usage.html#ssl-warnings\n",
      "  warnings.warn(\n"
     ]
    }
   ],
   "source": [
    "payload1 = {\n",
    "    \"Eform$Bin_Collection_Address_Search$AddressField_CustomerAddress$ibtnFindAddress.x\" : 1,\n",
    "    \"Eform$Bin_Collection_Address_Search$AddressField_CustomerAddress$ibtnFindAddress.y\" : 1,\n",
    "    \"Eform$Bin_Collection_Address_Search$AddressField_CustomerAddress$CustomerAddress\" : \"OX4 1QL\"\n",
    "\n",
    "}\n",
    "\n",
    "payload1['__VIEWSTATE'] = soup1.select_one(\"#__VIEWSTATE\")['value']\n",
    "payload1['__VIEWSTATEGENERATOR'] = soup1.select_one(\"#__VIEWSTATEGENERATOR\")['value']\n",
    "payload1['__EVENTVALIDATION'] = soup1.select_one(\"#__EVENTVALIDATION\")['value']\n",
    "\n",
    "r2 = requests.post(bin_url, data=payload1, cookies=r1.cookies, verify=False)\n",
    "soup2 = BeautifulSoup(r2.text, \"html.parser\")\n",
    "\n",
    "payload2 = {\n",
    "\n",
    "    \"Eform$Bin_Collection_Address_Search$AddressField_CustomerAddress$CustomerAddress\" : \"OX4 1QL\",\n",
    "    \"Eform$Bin_Collection_Address_Search$AddressField_CustomerAddress$lstSelectAddress\" : \"propertyref:101000470834\",\n",
    "    \"Eform$Bin_Collection_Address_Search$NavigateNextButton.x\" : 62,\n",
    "    \"Eform$Bin_Collection_Address_Search$NavigateNextButton.y\" : 17\n",
    "}\n",
    "\n",
    "payload2['__VIEWSTATE'] = soup2.select_one(\"#__VIEWSTATE\")['value']\n",
    "payload2['__VIEWSTATEGENERATOR'] = soup2.select_one(\"#__VIEWSTATEGENERATOR\")['value']\n",
    "payload2['__EVENTVALIDATION'] = soup2.select_one(\"#__EVENTVALIDATION\")['value']\n",
    "\n",
    "r3 = requests.post(bin_url, data=payload2, cookies=r2.cookies, verify=False)\n",
    "soup3 = BeautifulSoup(r3.text, \"html.parser\")\n",
    "# print(soup3)"
   ]
  },
  {
   "cell_type": "code",
   "execution_count": 6,
   "metadata": {},
   "outputs": [
    {
     "name": "stdout",
     "output_type": "stream",
     "text": [
      "('Green Refuse Bins', 'Next Collection: Thursday 6 October 2022')\n",
      "('Blue Recycling Bins', 'Next Collection: Thursday 29 September 2022')\n",
      "('Garden Waste Bins', 'No garden waste collections for this property')\n",
      "('Food Caddies', 'Next Collection: Thursday 29 September 2022')\n",
      "('Your Bin Zone', 'From 04 April 2022 - Your property is in the RED bin zone.')\n"
     ]
    }
   ],
   "source": [
    "bins = [item.text for item in soup3.find_all(\"th\") if item.text != \"\\xa0\"]\n",
    "dates = [item.text for item in soup3.find_all(\"td\") if item.text != \"\\n\"]\n",
    "result = list(zip(bins, dates))\n",
    "print(*result, sep='\\n')"
   ]
  }
 ],
 "metadata": {
  "kernelspec": {
   "display_name": "Python 3.9.4 64-bit",
   "language": "python",
   "name": "python3"
  },
  "language_info": {
   "codemirror_mode": {
    "name": "ipython",
    "version": 3
   },
   "file_extension": ".py",
   "mimetype": "text/x-python",
   "name": "python",
   "nbconvert_exporter": "python",
   "pygments_lexer": "ipython3",
   "version": "3.9.4"
  },
  "orig_nbformat": 4,
  "vscode": {
   "interpreter": {
    "hash": "f1898184a21b82df80684472be079eb402734b38d9bfe174a391597530cceeed"
   }
  }
 },
 "nbformat": 4,
 "nbformat_minor": 2
}
